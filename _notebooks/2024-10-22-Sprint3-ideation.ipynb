{
 "cells": [
  {
   "cell_type": "markdown",
   "metadata": {},
   "source": [
    "---\n",
    "layout: post\n",
    "title: Sprint 3 Ideation\n",
    "description: Sprint 3 Ideation\n",
    "toc: True\n",
    "permalink: /csa/sprint3\n",
    "comments: true"
   ]
  },
  {
   "cell_type": "markdown",
   "metadata": {},
   "source": [
    "## 1. Topic: CSA Synergy\n",
    "Our team's project is developing CSA Synergy to help Mr. Mortensen by providing a portal for students to submit assignments as well as grade their team teach's homework. This portal will greatly simplify the process of submitting grades on a google sheet, simplying both the students and the teacher's busy work. Furthermore, it will provide additional features like a Smart Calendar and Grade Analytics to help the students.\n",
    "\n",
    "## 2. Visual Drawings\n",
    "\n",
    "<img width=\"769\" alt=\"Screenshot 2024-10-22 at 11 25 12 AM\" src=\"https://github.com/user-attachments/assets/ebff5472-55c3-4494-84a3-1987f7131f0b\">\n",
    "\n",
    "## 3. Description of Data in Table\n",
    "### Assignments (in progress)\n",
    "Name: String\n",
    "Type: String\n",
    "Description: String\n",
    "Due Date: String\n",
    "Time Created: String\n",
    "\n",
    "### User (created before)\n",
    "Username: String\n",
    "Password: String\n",
    "isStudent: Boolean\n",
    "\n",
    "\n",
    "## 4. Coding Work - Frontend\n",
    "\n",
    "See basic page framework, running on localhost.\n",
    "\n",
    "\n",
    "## 5. Evidence of Research\n",
    "\n",
    "I researched Synergy's system to understand user preferences as well as what can be improved on: https://synergy.cobbk12.org/help-pdf/Synergy_SIS_Guides/Grading_User_Guide.pdf\n",
    "https://www.powayusd.com/apps/pages/synergy\n",
    "\n",
    "\n",
    "\n",
    "\n"
   ]
  },
  {
   "cell_type": "code",
   "execution_count": null,
   "metadata": {
    "vscode": {
     "languageId": "plaintext"
    }
   },
   "outputs": [],
   "source": [
    "<script src=\"https://utteranc.es/client.js\"\n",
    "        repo=\"rahulverma13/rahul_2025\"\n",
    "        issue-term=\"pathname\"\n",
    "        theme=\"github-light\"\n",
    "        crossorigin=\"anonymous\"\n",
    "        async>\n",
    "</script>\n"
   ]
  }
 ],
 "metadata": {
  "kernelspec": {
   "display_name": "java (IJava/j!)",
   "language": "java",
   "name": "jbang-ijava"
  },
  "language_info": {
   "codemirror_mode": "java",
   "file_extension": ".jshell",
   "mimetype": "text/x-java-source",
   "name": "java",
   "pygments_lexer": "java",
   "version": "17.0.12+0"
  }
 },
 "nbformat": 4,
 "nbformat_minor": 2
}
