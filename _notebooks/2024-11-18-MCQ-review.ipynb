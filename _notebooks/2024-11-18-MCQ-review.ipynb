{
 "cells": [
  {
   "cell_type": "markdown",
   "metadata": {},
   "source": [
    "---\n",
    "layout: post\n",
    "title: MCQ Review\n",
    "description: College Board 2014 MCQ Review\n",
    "toc: True\n",
    "permalink: /csa/mcq\n",
    "comments: true"
   ]
  },
  {
   "cell_type": "markdown",
   "metadata": {},
   "source": [
    "# 2014 AP CSA MCQ Practice Test\n",
    "\n",
    "## My score: 35/40\n",
    "\n",
    "Overall, on this MCQ, I reviewed a lot of the concepts that I learned in my lessons. I enjoyed many of the problems and how you had to walk through the code to identify the correct answer. I will be reviewing the 5 questions that I got wrong to ensure I don't make the same mistakes in the future.\n",
    "\n",
    "## Question 15\n",
    "\n",
    "![image](https://github.com/user-attachments/assets/626a80de-6e76-4dbe-aed5-e7a61a61c1c2)\n",
    "\n",
    "My Answer: C\n",
    "Correct Answer: A\n",
    "\n",
    "Explanation: On this question, I am confident that I simply selected the wrong answer. On reviewing the answer choices, answer choice C (only option 3), would immediately break just based on the first value, which doesn't make sense. Option 1 is the only one that works. This is the one I intended to chose, I simply misclicked.\n",
    "\n",
    "## Question 18\n",
    "\n",
    "![image](https://github.com/user-attachments/assets/1197def8-7912-48e8-80d0-5ab22efb4409)\n",
    "\n",
    "My Answer: A\n",
    "Correct Answer: B\n",
    "\n",
    "Explanation: In this problem, I forgot the exact values of Math.random(). After reviewing the problem after the test, I remembered that Math.random() returns a double between 0.0 and 1.0. Multiplying this value by the number of elements in the list, say N, will give you a value between 0.0 and N (NOT including N), and casting an integer will ensure its still an integer. Thus, the answer is B. You should not subtract 1.\n",
    "\n",
    "## Question 25\n",
    "\n",
    "![image](https://github.com/user-attachments/assets/35eb3be6-4045-45a8-9864-a91ec73b7913)\n",
    "\n",
    "My Answer: B\n",
    "Correct Answer: D\n",
    "\n",
    "Explanation: In this problem, I correctly identified option 2 as working, but failed to identify that option 1 also works, which would have made the answer D. Upon a rereading of the problem statement, I saw that it was asking to check if the height, length, and depth of the boxes are smaller. I failed to think that the getter methods in option 1 could have also allowed for this comparison-- you don't need the direct comparison methods in option 2. Thus, the answer is D.\n",
    "\n",
    "## Question 33\n",
    "\n",
    "![image](https://github.com/user-attachments/assets/6eb4103f-964f-4bb6-b04f-ccbfa99497c1)\n",
    "\n",
    "My Answer: C\n",
    "Correct Answer: E\n",
    "\n",
    "Explanation: This mistake was because of me going through this problem too fast (hence the 28 seconds spent), which led me to think that the || was an &&. If it was an &&, the while loop would have exited when sum was 12, and my answer would have been correct. However, since it is &&, and k never changes (it is always less than 4), it gets stuck in an infinite loop. Thus, the answer is E.\n",
    "\n",
    "## Question 34\n",
    "\n",
    "![image](https://github.com/user-attachments/assets/1fb91178-7625-4e9a-b46d-2305b64aa4e8)\n",
    "\n",
    "My Answer: D\n",
    "Correct Answer: B\n",
    "\n",
    "Explanation: In this problem, I correctly identified option 2 as a valid option, but also identified option 3, which does not work. The reason option 3 does not work is because the variables x and y are private, not public. Thus, trying to access them will give an error. This problem enhanced my knowledge of polymorphism and overall class strucuture.\n",
    "\n",
    "\n",
    "\n",
    "\n"
   ]
  }
 ],
 "metadata": {
  "kernelspec": {
   "display_name": "java (IJava/j!)",
   "language": "java",
   "name": "jbang-ijava"
  },
  "language_info": {
   "codemirror_mode": "java",
   "file_extension": ".jshell",
   "mimetype": "text/x-java-source",
   "name": "java",
   "pygments_lexer": "java",
   "version": "17.0.12+0"
  }
 },
 "nbformat": 4,
 "nbformat_minor": 2
}
