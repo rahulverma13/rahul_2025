{
 "cells": [
  {
   "cell_type": "raw",
   "metadata": {
    "vscode": {
     "languageId": "raw"
    }
   },
   "source": [
    "---\n",
    "layout: post\n",
    "title: Homework\n",
    "description: Unit 5 Homework (Period 3)\n",
    "toc: True\n",
    "permalink: /csa/unit5/homework/\n",
    "menu: nav/CSA_Units/csa_unit5_p3.html\n",
    "---"
   ]
  },
  {
   "cell_type": "markdown",
   "metadata": {},
   "source": [
    "## Hack 1\n",
    "Gru has just recently stopped El Macho from destroying the world. But now, Gru needs to separate the leftover purple minions and the yellow minions so that he can cure the infected minions. He then needs to organize the minions in terms of recovery time and usefulness. To do this, Gru needs you to make a minion class with the instance variables ``color, name, energy levels, gadgets, hair, height``\n",
    "\n",
    "## Hack 2\n",
    "Now Gru needs you to make a default constructor for all the NPC minions. Assign each default minion a default color,name,energy level, gadget, hair, and height. \n",
    "\n",
    "## Hack 3\n",
    "Now please make a parameterized constructor to create the main-character minions easily.\n",
    "\n",
    "## Hack 4\n",
    "Create three minions and print out their values(color, name, energy levels, gadgets, hair, height)\n",
    "\n",
    "## Hack 5\n",
    "Gru wants to make sure his workers are not overworked as per OSHA. So, Gru wants you to print out the average energy levels of all his Minions. (Hint: you should use static variables) \n",
    "\n",
    "## For 0.90+\n",
    "Dr. Nefario is trying to assign a recovery time for each minion! Minions who were purple and got cured are very tired, and so are a lot of minions with low energy levels. Create a simple algorithm to calculate how long each minion needs to recover based on their color and energy levels.\n"
   ]
  },
  {
   "cell_type": "code",
   "execution_count": 19,
   "metadata": {},
   "outputs": [
    {
     "name": "stdout",
     "output_type": "stream",
     "text": [
      "1\n",
      "2\n",
      "3\n",
      "Name: bob the builder\n",
      "Color: yellow\n",
      "Hair: bald\n",
      "Energy level: 5\n",
      "Gadgets: 10\n",
      "Height: 40\n",
      "------------\n",
      "Name: skibidi rizzler\n",
      "Color: skibidi rizzler\n",
      "Hair: black hair\n",
      "Energy level: 6\n",
      "Gadgets: 14\n",
      "Height: 48\n",
      "------------\n",
      "Name: Lmao\n",
      "Color: Lmao\n",
      "Hair: green hair\n",
      "Energy level: 2\n",
      "Gadgets: 4\n",
      "Height: 26\n",
      "------------\n",
      "Average Energy Level: 4.333333333333333\n"
     ]
    }
   ],
   "source": [
    "class Minion{\n",
    "    // Hack 1\n",
    "    private String color, name, hair;\n",
    "    private int energyLevel, gadgets, height;\n",
    "    public static List<Minion> minionsList = new ArrayList<>();  // Static list to track all minions!!! yay\n",
    "\n",
    "    // Hack 2\n",
    "    Minion(){\n",
    "        this.color = \"yellow\";\n",
    "        this.name = \"bob the builder\";\n",
    "        this.hair = \"bald\";\n",
    "        this.energyLevel = 5;\n",
    "        this.gadgets = 10; // 10 gadgets\n",
    "        this.height = 40;\n",
    "\n",
    "        // Hack 5\n",
    "        minionsList.add(this);\n",
    "        System.out.println(minionsList.size());\n",
    "    }\n",
    "\n",
    "    // Hack 3\n",
    "    Minion(String color, String name, String hair, int energyLevel, int gadgets, int height){\n",
    "        this.color = name;\n",
    "        this.name = name;\n",
    "        this.hair = hair;\n",
    "        this.energyLevel = energyLevel;\n",
    "        this.gadgets = gadgets;\n",
    "        this.height = height;\n",
    "        // Hack 5\n",
    "        minionsList.add(this);\n",
    "        System.out.println(minionsList.size());\n",
    "    }\n",
    "\n",
    "    // Hack 4\n",
    "    public void printInfo(){\n",
    "        System.out.println(\"Name: \" + name + \"\\nColor: \" + color + \"\\nHair: \" + hair + \"\\nEnergy level: \" + energyLevel + \"\\nGadgets: \" + gadgets + \"\\nHeight: \" + height);\n",
    "        System.out.println(\"------------\");\n",
    "    }\n",
    "\n",
    "    public int getEnergy(){\n",
    "        return this.energyLevel;\n",
    "    }\n",
    "\n",
    "    // Hack 5\n",
    "    public static double getAverageEnergyLevel(){\n",
    "        double sum = 0;\n",
    "        for(Minion m: minionsList){\n",
    "            sum += (double)m.getEnergy();\n",
    "        }\n",
    "        return sum / minionsList.size();\n",
    "    }\n",
    "}\n",
    "\n",
    "// Hack 4\n",
    "Minion minion1 = new Minion();\n",
    "Minion minion2 = new Minion(\"yellow\", \"skibidi rizzler\", \"black hair\", 6, 14, 48);\n",
    "Minion minion3 = new Minion(\"Green\", \"Lmao\", \"green hair\", 2, 4, 26);\n",
    "minion1.printInfo();\n",
    "minion2.printInfo();\n",
    "minion3.printInfo();\n",
    "\n",
    "System.out.println(\"Average Energy Level: \" + Minion.getAverageEnergyLevel());\n",
    "\n"
   ]
  }
 ],
 "metadata": {
  "kernelspec": {
   "display_name": "java (IJava/j!)",
   "language": "java",
   "name": "jbang-ijava"
  },
  "language_info": {
   "codemirror_mode": "java",
   "file_extension": ".jshell",
   "mimetype": "text/x-java-source",
   "name": "java",
   "pygments_lexer": "java",
   "version": "17.0.12+0"
  }
 },
 "nbformat": 4,
 "nbformat_minor": 2
}
