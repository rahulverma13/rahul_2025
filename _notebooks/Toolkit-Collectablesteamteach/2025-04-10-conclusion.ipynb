{
 "cells": [
  {
   "cell_type": "code",
   "execution_count": null,
   "id": "8e09829f",
   "metadata": {
    "vscode": {
     "languageId": "java"
    }
   },
   "outputs": [],
   "source": [
    "---\n",
    "layout: post\n",
    "title: Collectables Summary #2 \n",
    "permalink: /collectablesToolkitConclusion\n",
    "authors: Tarun, Srini, Nitin\n",
    "menu: /nav/CSA_Units/ds_team_teaches/toolkit-collectables.html\n",
    "---"
   ]
  },
  {
   "cell_type": "markdown",
   "id": "b7a3c85d",
   "metadata": {},
   "source": [
    "## Summary Diagram\n",
    "\n",
    "![Image](https://github.com/user-attachments/assets/a21dbb2a-1f66-44b8-bc25-f08ac0718b6f)\n",
    "\n",
    "\n",
    "![Image2](https://github.com/user-attachments/assets/073aeab1-bcd4-425b-a8d7-726d92cb8912)"
   ]
  },
  {
   "cell_type": "markdown",
   "id": "84de7eb2",
   "metadata": {},
   "source": [
    "## Java Collections ***Homework*** (due the Wednesday After Spring break)\n",
    "\n",
    "### Objectives\n",
    "- Practice using **List**, **Set**, and **Deque**\n",
    "- Understand when and why to use each\n",
    "- Apply key methods from each collection type\n",
    "- Practice iteration and conditional logic with collections\n",
    "\n",
    "\n",
    "\n",
    "### Part 1: Working with Lists\n",
    "\n",
    "**Task:**  \n",
    "Create a method that takes a List<Integer> and returns a new list containing only the **even numbers**, in the same order.\n",
    "\n",
    "**Requirements:**\n",
    "- Use ArrayList\n",
    "- Use add, get, and size\n",
    "- Use a loop (not streams)\n",
    "\n",
    "\n",
    "\n",
    "### Part 2: Working with Sets\n",
    "\n",
    "**Task:**  \n",
    "Create a method that takes two Set<String> objects and returns a new Set<String> with only the **common elements** (i.e. the intersection).\n",
    "\n",
    "**Requirements:**\n",
    "- Use HashSet\n",
    "- Use contains, add, and iteration\n",
    "- Final result should have **no duplicates**\n",
    "\n",
    "\n",
    "\n",
    "### Part 3: Working with Deques\n",
    "\n",
    "**Task:**  \n",
    "Simulate a line of customers using a Deque<String>. Implement the following steps in order:\n",
    "\n",
    "1. Add 3 customers to the **end**\n",
    "2. Add 1 customer to the **front** (VIP)\n",
    "3. Remove the customer at the **front**\n",
    "4. Show the current front and back of the line\n",
    "5. Print the size of the line\n",
    "\n",
    "**Requirements:**\n",
    "- Use ArrayDeque\n",
    "- Use addFirst, addLast, removeFirst, peekFirst, peekLast, and size\n",
    "\n",
    "\n",
    "\n",
    "### Challenge Question (Bonus +0.01)\n",
    "\n",
    "**Question:**  \n",
    "You need to store a collection of student IDs where:\n",
    "- Order **doesn't matter**\n",
    "- You must prevent **duplicates**\n",
    "- You often need to **check if an ID exists**\n",
    "\n",
    "Which collection type would be most efficient to use and why?\n"
   ]
  },
  {
   "cell_type": "code",
   "execution_count": 7,
   "id": "58cf5212",
   "metadata": {
    "vscode": {
     "languageId": "java"
    }
   },
   "outputs": [
    {
     "name": "stdout",
     "output_type": "stream",
     "text": [
      "[2, 0]\n"
     ]
    }
   ],
   "source": [
    "// Part 1\n",
    "public static ArrayList<Integer> onlyInt(ArrayList<Integer> arr){\n",
    "    ArrayList<Integer> newArr = new ArrayList<>();\n",
    "    for(int i = 0; i < arr.size(); i++){\n",
    "        if(arr.get(i) % 2 == 0) {\n",
    "            newArr.add(arr.get(i));\n",
    "        }\n",
    "    }\n",
    "    return newArr;\n",
    "}\n",
    "\n",
    "ArrayList<Integer> testing = new ArrayList<>();\n",
    "testing.add(2);\n",
    "testing.add(5);\n",
    "testing.add(7);\n",
    "testing.add(0);\n",
    "\n",
    "System.out.println(onlyInt(testing));\n"
   ]
  },
  {
   "cell_type": "code",
   "execution_count": 10,
   "id": "2bad37e2",
   "metadata": {
    "vscode": {
     "languageId": "java"
    }
   },
   "outputs": [
    {
     "name": "stdout",
     "output_type": "stream",
     "text": [
      "[4, 5]\n"
     ]
    }
   ],
   "source": [
    "// Part 2\n",
    "public static HashSet<Integer> intersection(HashSet<Integer> set1, HashSet<Integer> set2){\n",
    "    set1.retainAll(set2);\n",
    "    return set1;\n",
    "}\n",
    "\n",
    "HashSet<Integer> set1 = new HashSet<>();\n",
    "set1.add(4);\n",
    "set1.add(2);\n",
    "set1.add(5);\n",
    "\n",
    "HashSet<Integer> set2 = new HashSet<>();\n",
    "set2.add(4);\n",
    "set2.add(5);\n",
    "set2.add(7);\n",
    "\n",
    "System.out.println(intersection(set1, set2));\n"
   ]
  },
  {
   "cell_type": "code",
   "execution_count": 11,
   "id": "8a68b189",
   "metadata": {
    "vscode": {
     "languageId": "java"
    }
   },
   "outputs": [
    {
     "name": "stdout",
     "output_type": "stream",
     "text": [
      "Front customer 1\n",
      "Back customer 3\n",
      "Length 3\n"
     ]
    }
   ],
   "source": [
    "// Part 3\n",
    "\n",
    "Deque<String> dq = new ArrayDeque<>();\n",
    "dq.addLast(\"customer 1\");\n",
    "dq.addLast(\"customer 2\");\n",
    "dq.addLast(\"customer 3\");\n",
    "dq.addFirst(\"VIP\");\n",
    "dq.removeFirst();\n",
    "System.out.println(\"Front \" + dq.getFirst());\n",
    "System.out.println(\"Back \"  + dq.getLast());\n",
    "System.out.println(\"Length \" + dq.size());"
   ]
  },
  {
   "cell_type": "markdown",
   "id": "610561e3",
   "metadata": {},
   "source": [
    "# Challenge Question\n",
    "\n",
    "A set / hashset architecture would be the most optimal and efficient. This is because a set allows for very fast search in O(1) and prevents duplicates inherently, and while sets do not offer indexing, this is not required in this application. Thus, sets are thebest."
   ]
  }
 ],
 "metadata": {
  "kernelspec": {
   "display_name": "java (IJava/j!)",
   "language": "java",
   "name": "jbang-ijava"
  },
  "language_info": {
   "codemirror_mode": "java",
   "file_extension": ".jshell",
   "mimetype": "text/x-java-source",
   "name": "Java",
   "pygments_lexer": "java",
   "version": "17.0.13+0"
  }
 },
 "nbformat": 4,
 "nbformat_minor": 5
}
