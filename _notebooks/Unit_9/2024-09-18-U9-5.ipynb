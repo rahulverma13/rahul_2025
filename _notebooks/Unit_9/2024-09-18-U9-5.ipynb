{
 "cells": [
  {
   "cell_type": "markdown",
   "metadata": {},
   "source": [
    "---\n",
    "layout: post\n",
    "title: Creating References Using Inheritance Hierarchies\n",
    "categories: [DevOps]\n",
    "menu: nav/inheritance.html\n",
    "permalink: /inheritance/hierarchies\n",
    "toc: false\n",
    "comments: true\n",
    "---"
   ]
  },
  {
   "cell_type": "markdown",
   "metadata": {},
   "source": [
    "## Understanding Class Hierarchies"
   ]
  },
  {
   "cell_type": "markdown",
   "metadata": {},
   "source": [
    "Class hierarchies in Java enable structured relationships between classes through **inheritance**. This concept is foundational to object-oriented programming and enhances code reusability and organization, which simplifies managing complex systems.\n",
    "\n",
    "In a class hierarchy, a **superclass** can pass down properties and methods to its **subclasses**. This allows subclasses to inherit functionality while also being able to define or modify behaviors that are specific to themselves. This leads to a more manageable code structure and helps in maintaining code consistency."
   ]
  },
  {
   "cell_type": "markdown",
   "metadata": {},
   "source": [
    "### Components of Class Hierarchies\n",
    "1. **Superclass**: The parent class from which properties and methods are inherited.\n",
    "2. **Subclass**: A child class that inherits from the superclass and can override or extend its functionality.\n",
    "3. **Polymorphism**: The ability to treat objects of different classes through a common interface, allowing for method overriding."
   ]
  },
  {
   "cell_type": "markdown",
   "metadata": {},
   "source": [
    "### Example Hierarchy"
   ]
  },
  {
   "cell_type": "code",
   "execution_count": 29,
   "metadata": {
    "vscode": {
     "languageId": "java"
    }
   },
   "outputs": [],
   "source": [
    "public class Shape {\n",
    "    protected String name;\n",
    "\n",
    "\n",
    "    public Shape(String name) {\n",
    "        this.name = name;\n",
    "    }\n",
    "\n",
    "    public double calc_area() {\n",
    "        return 0.0;\n",
    "    }\n",
    "\n",
    "    public void print_shape() {\n",
    "        System.out.println(\"Shape: \" + name);\n",
    "    }\n",
    "    public String draw() {\n",
    "        return \"Draw\";\n",
    "    }\n",
    "}\n"
   ]
  },
  {
   "cell_type": "markdown",
   "metadata": {},
   "source": [
    "## Derived Class: Rectangle\n",
    "Now, let's create a `Rectangle` class that inherits from `Shape`."
   ]
  },
  {
   "cell_type": "code",
   "execution_count": 30,
   "metadata": {
    "vscode": {
     "languageId": "java"
    }
   },
   "outputs": [],
   "source": [
    "public class Rectangle extends Shape {\n",
    "    private int length;\n",
    "    private int width;\n",
    "\n",
    "    public Rectangle(String name, int length, int width) {\n",
    "        super(name);\n",
    "        this.length = length;\n",
    "        this.width = width;\n",
    "    }\n",
    "}\n",
    "\n",
    "class Circle extends Shape {\n",
    "    private double radius;\n",
    "\n",
    "    public Circle(String name, double radius){\n",
    "        super(name);\n",
    "        this.radius = radius;\n",
    "    }\n",
    "    public double calc_area() {\n",
    "        return Math.PI * radius * radius;\n",
    "    }\n",
    "    @Override\n",
    "    public String draw() {\n",
    "        return \"Drawing a circle\";\n",
    "    }\n",
    "}\n"
   ]
  },
  {
   "cell_type": "markdown",
   "metadata": {},
   "source": [
    "## Derived Class: Triangle\n",
    "Next, let's create a `Triangle` class that also inherits from `Shape`."
   ]
  },
  {
   "cell_type": "code",
   "execution_count": 31,
   "metadata": {
    "vscode": {
     "languageId": "java"
    }
   },
   "outputs": [],
   "source": [
    "public class Triangle extends Shape {\n",
    "    private int side1;\n",
    "    private int side2;\n",
    "    private int side3;\n",
    "\n",
    "    public Triangle(String name, int s1, int s2, int s3) {\n",
    "        super(name);\n",
    "        this.side1 = s1;\n",
    "        this.side2 = s2;\n",
    "        this.side3 = s3;\n",
    "    }\n",
    "}\n",
    "\n",
    "class Square extends Shape {\n",
    "    private int side;\n",
    "    public Square(String name, int side){\n",
    "        super(name);\n",
    "        this.side = side;\n",
    "    }\n",
    "    public String draw() {\n",
    "        return \"Drawing a square\";\n",
    "    }\n",
    "}\n"
   ]
  },
  {
   "cell_type": "markdown",
   "metadata": {},
   "source": [
    "## Testing Our Classes\n",
    "Let's create instances of `Rectangle` and `Triangle` and call their methods."
   ]
  },
  {
   "cell_type": "code",
   "execution_count": 32,
   "metadata": {
    "vscode": {
     "languageId": "java"
    }
   },
   "outputs": [
    {
     "ename": "UnresolvedReferenceException",
     "evalue": "Attempt to use definition snippet with unresolved references in Snippet:ClassKey(Main)#17-public class Main {\n    public static void main(String[] args) {\n        Circle myCircle = new Circle();\n        Square mySquare = new Square();\n    }\n}",
     "output_type": "error",
     "traceback": []
    }
   ],
   "source": [
    "public class Main {\n",
    "    public static void main(String[] args) {\n",
    "        Circle myCircle = new Circle();\n",
    "        Square mySquare = new Square();\n",
    "    }\n",
    "}\n",
    "\n",
    "Main.main(null);"
   ]
  },
  {
   "cell_type": "markdown",
   "metadata": {},
   "source": [
    "In the example above, `Shape` acts as the superclass, while `Circle` and `Square` are subclasses that override the `draw` method to provide specific behavior. This demonstrates **polymorphism**, enabling us to reference subclasses using a superclass type and invoke the overridden methods dynamically at runtime. This is particularly powerful as it allows for flexibility in the code, facilitating easier changes and enhancements."
   ]
  },
  {
   "cell_type": "markdown",
   "metadata": {},
   "source": [
    "### Benefits of Using Class Hierarchies\n",
    "1. **Code Reusability**: Common behaviors are defined in the superclass, significantly reducing code duplication and making it easier to maintain and update.\n",
    "2. **Organized Structure**: A clear hierarchical structure in your code aids in understanding the relationships between classes, making the codebase more intuitive and manageable.\n",
    "3. **Polymorphism**: Allows for dynamic method resolution, enabling methods to be invoked on objects of subclasses through references of the superclass type."
   ]
  },
  {
   "cell_type": "markdown",
   "metadata": {},
   "source": [
    "## Practical Exercise: Popcorn Hack 1\n",
    "Let's implement the `Triangle` subclass to deepen your understanding. Below is a half-completed method for the `Triangle` class. Your task is to complete the `draw` method:\n",
    "\n",
    "```java\n",
    "class Shape {\n",
    "    public String draw() {\n",
    "        return \"Drawing a shape\";\n",
    "    }\n",
    "}\n",
    "\n",
    "class Triangle extends Shape {\n",
    "    @Override\n",
    "    public String draw() {\n",
    "        return \"Drawing a circle\";\n",
    "    }\n",
    "}\n",
    "\n",
    "public class Main {\n",
    "    public static void main(String[] args) {\n",
    "        Shape myTriangle = new Triangle();\n",
    "        System.out.println(myTriangle.draw()); // Should output: \"Drawing a triangle.\"\n",
    "    }\n",
    "}\n",
    "```\n",
    "Make sure your implementation returns a unique string for the `Triangle` class. This exercise will help reinforce how subclasses can extend functionality."
   ]
  },
  {
   "cell_type": "markdown",
   "metadata": {},
   "source": [
    "### Expanding Your Skills: Adding a Rectangle Class\n",
    "Next, let's implement the `Rectangle` subclass. Below is the basic setup for it. Your task is to implement the `draw` method for the `Rectangle` class:\n",
    "\n",
    "```java\n",
    "class Rectangle extends Shape {\n",
    "    @Override\n",
    "    public String draw() {\n",
    "        return \"Drawing a rectangle\";\n",
    "    }\n",
    "}\n",
    "\n",
    "public static void main(String[] args) {\n",
    "    Shape myRectangle = new Rectangle();\n",
    "    System.out.println(myRectangle.draw()); // Should output: \"Drawing a rectangle.\"\n",
    "}\n",
    "```\n",
    "Complete the `draw` method in `Rectangle`, ensuring it returns a unique string. This will reinforce how multiple subclasses can have distinct implementations of the same method, enhancing your understanding of class hierarchies."
   ]
  },
  {
   "cell_type": "markdown",
   "metadata": {},
   "source": [
    "### Advanced Challenge: Area Calculation\n",
    "Now, let’s enhance our `Shape` class to include an area calculation feature. Modify the `Shape` class to include an `area` method, and implement it in your subclasses. Below is a structure to help you get started:\n",
    "\n",
    "CODE IS BELOW\n",
    "\n",
    "Ensure each subclass calculates and returns its area correctly. This will allow you to practice method overriding further and understand how different shapes can extend base functionalities."
   ]
  },
  {
   "cell_type": "code",
   "execution_count": 34,
   "metadata": {
    "vscode": {
     "languageId": "java"
    }
   },
   "outputs": [
    {
     "name": "stdout",
     "output_type": "stream",
     "text": [
      "Drawing a circle with area: 78.53981633974483\n",
      "Drawing a square with area: 16.0\n",
      "Drawing a rectangle with area: 24.0\n",
      "Drawing a triangle with area: 7.5\n"
     ]
    }
   ],
   "source": [
    "class Shape {\n",
    "    public String draw() {\n",
    "        return \"Drawing a shape\";\n",
    "    }\n",
    "\n",
    "    public double area() {\n",
    "        return 0; // Default implementation\n",
    "    }\n",
    "}\n",
    "\n",
    "class Circle extends Shape {\n",
    "    private int radius;\n",
    "\n",
    "    public Circle(int radius) {\n",
    "        this.radius = radius;\n",
    "    }\n",
    "\n",
    "    @Override\n",
    "    public double area() {\n",
    "        return Math.PI * radius * radius;\n",
    "    }\n",
    "\n",
    "    @Override\n",
    "    public String draw() {\n",
    "        return \"Drawing a circle\";\n",
    "    }\n",
    "}\n",
    "\n",
    "class Square extends Shape {\n",
    "    private int side;\n",
    "\n",
    "    public Square(int side) {\n",
    "        this.side = side;\n",
    "    }\n",
    "\n",
    "    @Override\n",
    "    public double area() {\n",
    "        return side * side;\n",
    "    }\n",
    "\n",
    "    @Override\n",
    "    public String draw() {\n",
    "        return \"Drawing a square\";\n",
    "    }\n",
    "}\n",
    "\n",
    "class Rectangle extends Shape {\n",
    "    private int width;\n",
    "    private int height;\n",
    "\n",
    "    public Rectangle(int width, int height) {\n",
    "        this.width = width;\n",
    "        this.height = height;\n",
    "    }\n",
    "\n",
    "    @Override\n",
    "    public double area() {\n",
    "        return width * height;\n",
    "    }\n",
    "\n",
    "    @Override\n",
    "    public String draw() {\n",
    "        return \"Drawing a rectangle\";\n",
    "    }\n",
    "}\n",
    "\n",
    "class Triangle extends Shape {\n",
    "    private double base;\n",
    "    private double height;\n",
    "\n",
    "    public Triangle(double base, double height) {\n",
    "        this.base = base;\n",
    "        this.height = height;\n",
    "    }\n",
    "\n",
    "    @Override\n",
    "    public double area() {\n",
    "        return 0.5 * base * height;\n",
    "    }\n",
    "\n",
    "    @Override\n",
    "    public String draw() {\n",
    "        return \"Drawing a triangle\";\n",
    "    }\n",
    "}\n",
    "\n",
    "\n",
    "Shape circle = new Circle(5);\n",
    "Shape square = new Square(4);\n",
    "Shape rectangle = new Rectangle(4, 6);\n",
    "Shape triangle = new Triangle(3, 5);\n",
    "\n",
    "System.out.println(circle.draw() + \" with area: \" + circle.area());\n",
    "System.out.println(square.draw() + \" with area: \" + square.area());\n",
    "System.out.println(rectangle.draw() + \" with area: \" + rectangle.area());\n",
    "System.out.println(triangle.draw() + \" with area: \" + triangle.area());\n",
    "\n"
   ]
  },
  {
   "cell_type": "markdown",
   "metadata": {},
   "source": [
    "## Homework Hack\n",
    "For your homework, create your own class hierarchy for shapes. You should have a base class called `Shape` with subclasses `Triangle`, `Rectangle`, and `Hexagon`. Each subclass should implement a method called `draw()`, returning a unique string for each shape type.\n",
    "\n",
    "    - `Triangle`: \"Drawing a triangle.\"\n",
    "\n",
    "    - `Rectangle`: \"Drawing a rectangle.\"\n",
    "\n",
    "    - `Hexagon`: \"Drawing a hexagon.\"\n",
    "\n",
    "Make sure to demonstrate polymorphism by creating an array of `Shape` types and iterating through it to call the `draw()` method. This will reinforce your understanding of class hierarchies and method overriding."
   ]
  },
  {
   "cell_type": "code",
   "execution_count": 35,
   "metadata": {
    "vscode": {
     "languageId": "java"
    }
   },
   "outputs": [
    {
     "name": "stdout",
     "output_type": "stream",
     "text": [
      "Drawing a circle with area: 78.53981633974483\n",
      "Drawing a square with area: 16.0\n",
      "Drawing a rectangle with area: 24.0\n",
      "Drawing a triangle with area: 7.5\n",
      "Drawing a hexagon with area: 23.382685902179844\n"
     ]
    }
   ],
   "source": [
    "class Shape {\n",
    "    public String draw() {\n",
    "        return \"Drawing a shape\";\n",
    "    }\n",
    "\n",
    "    public double area() {\n",
    "        return 0; // Default implementation\n",
    "    }\n",
    "}\n",
    "\n",
    "class Circle extends Shape {\n",
    "    private int radius;\n",
    "\n",
    "    public Circle(int radius) {\n",
    "        this.radius = radius;\n",
    "    }\n",
    "\n",
    "    @Override\n",
    "    public double area() {\n",
    "        return Math.PI * radius * radius;\n",
    "    }\n",
    "\n",
    "    @Override\n",
    "    public String draw() {\n",
    "        return \"Drawing a circle\";\n",
    "    }\n",
    "}\n",
    "\n",
    "class Square extends Shape {\n",
    "    private int side;\n",
    "\n",
    "    public Square(int side) {\n",
    "        this.side = side;\n",
    "    }\n",
    "\n",
    "    @Override\n",
    "    public double area() {\n",
    "        return side * side;\n",
    "    }\n",
    "\n",
    "    @Override\n",
    "    public String draw() {\n",
    "        return \"Drawing a square\";\n",
    "    }\n",
    "}\n",
    "\n",
    "class Rectangle extends Shape {\n",
    "    private int width;\n",
    "    private int height;\n",
    "\n",
    "    public Rectangle(int width, int height) {\n",
    "        this.width = width;\n",
    "        this.height = height;\n",
    "    }\n",
    "\n",
    "    @Override\n",
    "    public double area() {\n",
    "        return width * height;\n",
    "    }\n",
    "\n",
    "    @Override\n",
    "    public String draw() {\n",
    "        return \"Drawing a rectangle\";\n",
    "    }\n",
    "}\n",
    "\n",
    "class Triangle extends Shape {\n",
    "    private double base;\n",
    "    private double height;\n",
    "\n",
    "    public Triangle(double base, double height) {\n",
    "        this.base = base;\n",
    "        this.height = height;\n",
    "    }\n",
    "\n",
    "    @Override\n",
    "    public double area() {\n",
    "        return 0.5 * base * height;\n",
    "    }\n",
    "\n",
    "    @Override\n",
    "    public String draw() {\n",
    "        return \"Drawing a triangle\";\n",
    "    }\n",
    "}\n",
    "\n",
    "class Hexagon extends Shape {\n",
    "    private int side;\n",
    "\n",
    "    public Hexagon(int side) {\n",
    "        this.side = side;\n",
    "    }\n",
    "\n",
    "    @Override\n",
    "    public double area() {\n",
    "        return (3 * Math.sqrt(3) / 2) * side * side;\n",
    "    }\n",
    "\n",
    "    @Override\n",
    "    public String draw() {\n",
    "        return \"Drawing a hexagon\";\n",
    "    }\n",
    "}\n",
    "\n",
    "\n",
    "Shape[] shapes = new Shape[5];\n",
    "shapes[0] = new Circle(5);\n",
    "shapes[1] = new Square(4);\n",
    "shapes[2] = new Rectangle(4, 6);\n",
    "shapes[3] = new Triangle(3, 5);\n",
    "shapes[4] = new Hexagon(3);\n",
    "\n",
    "for (Shape shape : shapes) {\n",
    "    System.out.println(shape.draw() + \" with area: \" + shape.area());\n",
    "}"
   ]
  }
 ],
 "metadata": {
  "kernelspec": {
   "display_name": "java (IJava/j!)",
   "language": "java",
   "name": "jbang-ijava"
  },
  "language_info": {
   "codemirror_mode": "java",
   "file_extension": ".jshell",
   "mimetype": "text/x-java-source",
   "name": "Java",
   "pygments_lexer": "java",
   "version": "17.0.12+0"
  }
 },
 "nbformat": 4,
 "nbformat_minor": 2
}
