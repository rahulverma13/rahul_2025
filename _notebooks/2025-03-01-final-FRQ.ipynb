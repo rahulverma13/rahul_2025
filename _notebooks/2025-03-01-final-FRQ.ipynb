{
 "cells": [
  {
   "cell_type": "markdown",
   "metadata": {},
   "source": [
    "---\n",
    "layout: post\n",
    "title: Final FRQ Practice\n",
    "description: Final FRQ\n",
    "toc: True\n",
    "permalink: /csa/final-frq\n",
    "comments: true"
   ]
  },
  {
   "cell_type": "markdown",
   "metadata": {},
   "source": [
    "# 2014 FRQ\n",
    "\n",
    "## Problem 1\n",
    "\n",
    "![Image](https://github.com/user-attachments/assets/e87d607b-18f0-4185-955b-f889469d379d)"
   ]
  },
  {
   "cell_type": "code",
   "execution_count": 19,
   "metadata": {
    "vscode": {
     "languageId": "java"
    }
   },
   "outputs": [],
   "source": [
    "public class WorldScarmbler{\n",
    "    private String[] scrambledWords;\n",
    "\n",
    "    public WorldScarmbler (String[] wordArr){\n",
    "        //scrambledWords = mixedWords(wordArr);\n",
    "    }\n",
    "\n",
    "    private String recombine(String word1, String word2){\n",
    "        String newWord = \"\";\n",
    "        for(int i = 0; i < word1.length() / 2; i++){\n",
    "            newWord += word1.charAt(i);\n",
    "        }\n",
    "        for(int i = word2.length() / 2; i < word2.length(); i++){\n",
    "            newWord += word2.charAt(i);\n",
    "        }\n",
    "        return newWord;\n",
    "    }\n",
    "    \n",
    "    public String[] mixedWords (String[] words){\n",
    "        String[] newList = new String[words.length / 2];\n",
    "        for(int i = 0; i < words.length / 2; i += 2){\n",
    "            newList[i/2] = recombine(words[i], words[i+1]);\n",
    "        }\n",
    "        return newList;\n",
    "    }\n",
    "}"
   ]
  },
  {
   "cell_type": "markdown",
   "metadata": {},
   "source": [
    "## Problem 1 Self Grade\n",
    "\n",
    "### Part (a) - recombine Method\n",
    "Take the first half of word1 -> Yes\n",
    "- Uses word1.length() / 2 to get first half\n",
    "- Handles both even and odd-length words properly\n",
    "\n",
    "\n",
    "Take the second half of word2 -> Yes\n",
    "- Uses word2.length() / 2 to get second half\n",
    "- Handles both even and odd-length words properly\n",
    "\n",
    "\n",
    "Concatenate the two halves -> Yes\n",
    "- Combines characters\n",
    "\n",
    "### Part (b) - mixedWords Method\n",
    "\n",
    "Takes first pair of strings in words -> Yes\n",
    "- Iterates through input array in pairs\n",
    "- Uses words[i] and words[i+1] to process pairs\n",
    "\n",
    "\n",
    "Combines pairs using recombine -> Yes\n",
    "- Calls recombine method on each pair of words\n",
    "- Stores result in new array\n",
    "\n",
    "\n",
    "Returns new array of recombined strings -> Yes\n",
    "- Creates new array newList\n",
    "- Returns the array of recombined words\n",
    "\n",
    "\n",
    "### Self Score: 9/9 points"
   ]
  },
  {
   "cell_type": "markdown",
   "metadata": {
    "vscode": {
     "languageId": "plaintext"
    }
   },
   "source": [
    "## Problem 3\n",
    "\n",
    "![Image](https://github.com/user-attachments/assets/dd53e826-fca8-4c6e-a5f9-7701c9bad0c2)"
   ]
  },
  {
   "cell_type": "code",
   "execution_count": 5,
   "metadata": {
    "vscode": {
     "languageId": "java"
    }
   },
   "outputs": [],
   "source": [
    "public class TemperatureGrid{\n",
    "    private double[][] temps;\n",
    "\n",
    "    private double computeTemps(int row, int col){\n",
    "        int numRows = temps.length;\n",
    "        int numCols = temps[0].length;\n",
    "\n",
    "        if(row == 0 || row == numRows - 1 || col == 0 || col == numCols - 1){\n",
    "            // Border cell\n",
    "            return temps[row][col];\n",
    "        }\n",
    "        // Take average of four adjacent values\n",
    "        double sum = temps[row-1][col] + temps[row+1][col] + temps[row][col-1] + temps[row][col+1];\n",
    "        double average = sum / 4;\n",
    "\n",
    "        return average;\n",
    "    }\n",
    "\n",
    "    public boolean updateAllTemps (double tolerance){\n",
    "        int numRows = temps.length;\n",
    "        int numCols = temps[0].length;\n",
    "\n",
    "        double[][] newArray = new double[numRows][numCols];\n",
    "        boolean withinTolerance = true;\n",
    "\n",
    "        for(int i = 0; i < numRows; i++){\n",
    "            for(int j = 0; j < numCols; j++){\n",
    "                newArray[i][j] = computeTemps(i, j);\n",
    "                if(Math.abs(newArray[i][j] - temps[i][j]) > tolerance) withinTolerance = false;\n",
    "            }\n",
    "        }\n",
    "\n",
    "\n",
    "        for(int i = 0; i < numRows; i++){\n",
    "            for(int j = 0; j < numCols; j++){\n",
    "                temps[i][j] = newArray[i][j];\n",
    "            }\n",
    "        }\n",
    "\n",
    "        return withinTolerance;\n",
    "    }\n",
    "}\n",
    "\n"
   ]
  },
  {
   "cell_type": "markdown",
   "metadata": {},
   "source": [
    "## Problem 3 Self Grade\n",
    "\n",
    "### Part (a) - computeTemps Method:\n",
    "\n",
    "Return original temperature for border elements -> Yes\n",
    "- Correctly checks if the cell is on any border\n",
    "- Return original temperature\n",
    "\n",
    "For non-border elements, compute average of four adjacent values -> Yes\n",
    "- Calculates average of top, down, left, right cells\n",
    "- Correctly uses index cals to get values\n",
    "- Divide sum by 4 to get average\n",
    "\n",
    "### Part (b) _ updateAllTemps Method:\n",
    "\n",
    "Create a new array to store new temperatures -> Yes\n",
    "- Create newArray with same dimensions\n",
    "\n",
    "Compute new temperatures for each cell -> Yes\n",
    "- Use computeTemps method\n",
    "\n",
    "Check if all new temperatures are within tolerance -> Yes\n",
    "- Uses Math.abs() to see if its within tolerance\n",
    "- Sets boolean to false if any cell exceeds tolerance\n",
    "\n",
    "Update all original temperatures with new valuse -> Yes\n",
    "- Copies all values from newArray back to temps\n",
    "\n",
    "Returns if all cells are within tolerance\n",
    "- Returns within tolerance\n",
    "\n",
    "### Self Graded Score: 9/9"
   ]
  },
  {
   "cell_type": "markdown",
   "metadata": {},
   "source": [
    "# 2015 FRQ\n",
    "\n",
    "## Problem 2\n",
    "\n",
    "<img width=\"673\" alt=\"Image\" src=\"https://github.com/user-attachments/assets/06ba75fa-3219-4cca-9a59-597cb3030da2\" />\n",
    "\n"
   ]
  },
  {
   "cell_type": "code",
   "execution_count": 6,
   "metadata": {
    "vscode": {
     "languageId": "java"
    }
   },
   "outputs": [
    {
     "name": "stdout",
     "output_type": "stream",
     "text": [
      "+A+++\n",
      "H****\n",
      "H*++*\n",
      "HAR*S\n",
      "HARPS\n"
     ]
    }
   ],
   "source": [
    "public class HiddenWord{\n",
    "    private String word;\n",
    "    public int length;\n",
    "\n",
    "    HiddenWord(String word){\n",
    "        this.word = word;\n",
    "        this.length = word.length();\n",
    "    }\n",
    "\n",
    "    public String getHint(String guess){\n",
    "        String ans = \"\";\n",
    "        for(int i = 0; i < length; i++){\n",
    "            if(word.charAt(i) == guess.charAt(i)){\n",
    "                ans += word.charAt(i);\n",
    "                continue;\n",
    "            }\n",
    "            boolean foundOne = false;\n",
    "            for(int j = 0; j < length; j++){\n",
    "                if(word.charAt(j) == guess.charAt(i)){\n",
    "                    ans += \"+\";\n",
    "                    foundOne = true;\n",
    "                    break;\n",
    "                }\n",
    "            }\n",
    "            if(!foundOne) ans += \"*\";\n",
    "        }\n",
    "        return ans;\n",
    "        \n",
    "    }\n",
    "    \n",
    "}\n",
    "\n",
    "HiddenWord puzzle = new HiddenWord(\"HARPS\");\n",
    "System.out.println(puzzle.getHint(\"AAAAA\"));\n",
    "System.out.println(puzzle.getHint(\"HELLO\"));\n",
    "System.out.println(puzzle.getHint(\"HEART\"));\n",
    "System.out.println(puzzle.getHint(\"HARMS\"));\n",
    "System.out.println(puzzle.getHint(\"HARPS\"));"
   ]
  },
  {
   "cell_type": "markdown",
   "metadata": {},
   "source": [
    "## Problem 2 Self Grade\n",
    "\n",
    "### Part (a) - Constructor & Instance Variables\n",
    "Private instance for word -> Yes\n",
    "- Instance correctly declared\n",
    "\n",
    "Initialize instance variable in constructor -> Yes\n",
    "- Uses this.word = word\n",
    "- Length is unneeded\n",
    "\n",
    "### Part (b) - getHint Method:\n",
    "Access all letters in both guess and hidden word -> Yes\n",
    "- Uses nested loops to check each character\n",
    "\n",
    "Process letters correctly -> Yes\n",
    "- Check if laetter is in the same position\n",
    "- Check if letter exists elsewhere\n",
    "- Adds * if letter not in word at all\n",
    "\n",
    "Constructor returns hint string\n",
    "- Correctly returns built up string\n",
    "\n",
    "## Self Grade Score: 8/9\n",
    "\n",
    "One improvement is simplifying the nested loops and removing the unneeded length variable."
   ]
  },
  {
   "cell_type": "markdown",
   "metadata": {},
   "source": [
    "## Problem 4\n",
    "\n",
    "<img width=\"1473\" alt=\"Image\" src=\"https://github.com/user-attachments/assets/ae6172e6-b8bf-4975-b91c-4e31ecaa18af\" />\n"
   ]
  },
  {
   "cell_type": "code",
   "execution_count": null,
   "metadata": {
    "vscode": {
     "languageId": "java"
    }
   },
   "outputs": [],
   "source": [
    "public interface NumberGroup {\n",
    "    boolean contains(int num){};\n",
    "}\n",
    "\n",
    "public class Range implements NumberGroup {\n",
    "    private int min;\n",
    "    private int max;\n",
    "\n",
    "    public Range(int min, int max) {\n",
    "        this.min = min;\n",
    "        this.max = max;\n",
    "    }\n",
    "    public boolean contains(int num) {\n",
    "        return num >= min && num <= max;\n",
    "    }\n",
    "}\n",
    "\n",
    "public class MultipleGroups implements NumberGroup {\n",
    "    private ArrayList<NumberGroup> groupList;\n",
    "\n",
    "    public MultipleGroups() {\n",
    "        groupList = new ArrayList<>();\n",
    "    }\n",
    "\n",
    "    public void add(NumberGroup group) {\n",
    "        groupList.add(group);\n",
    "    }\n",
    "\n",
    "    public boolean contains(int num) {\n",
    "        for (NumberGroup group : groupList) {\n",
    "            if (group.contains(num)) {\n",
    "                return true;\n",
    "            }\n",
    "        }\n",
    "        return false;\n",
    "    }\n",
    "}"
   ]
  },
  {
   "cell_type": "markdown",
   "metadata": {},
   "source": [
    "## Problem 4 Self Grade\n",
    "\n",
    "### Part (a) - Number Group Interface\n",
    "\n",
    "Define interface NumberGroup -> Yes\n",
    "- Correctly defines the interface\n",
    "- Only contains the 'contains' method\n",
    "\n",
    "### Part (b) - Range Class\n",
    "Implements NumberGroup -> Yes\n",
    "- Correctly implements NumberGroup\n",
    "Declares Private Instance Variables -> Yes\n",
    "- variables are declared private\n",
    "\n",
    "Constructor intiiaalizes variables -> Yes\n",
    "- Correctly defines private variables\n",
    "\n",
    "'contains' method implementation -> Yes\n",
    "- Checks if number is within range\n",
    "- Returns true if its within range\n",
    "\n",
    "### Part (c) MultipleGroups Class\n",
    "Implements Number Group -> Yes\n",
    "Declares privatelist of groups -> Yes\n",
    "Constructor initializes empty list -> Yes\n",
    "\n",
    "'contains' method -> Yes\n",
    "- Iterates through all groups\n",
    "- Returns true if any group contains it, false otherwise\n",
    "\n",
    "### Self Grade: 8/9"
   ]
  },
  {
   "cell_type": "markdown",
   "metadata": {},
   "source": [
    "# FRQ Reflection\n",
    "\n",
    "Overall, I think I did quite well on the FRQs. I believe I learned a lot through this process, especially in the self grade which showed me what points are generally common. I am really thankful to all the people who did team teaches because I think that really helped me prepare for these FRQs and is demosntrated through my high scores.\n",
    "\n",
    "Things I did well:\n",
    "- For loops\n",
    "- Common java methods\n",
    "- Executing what the problem statement says\n",
    "\n",
    "Things I could work on in the future\n",
    "- Polymorphism\n",
    "- Implements, Extends, etc."
   ]
  }
 ],
 "metadata": {
  "kernelspec": {
   "display_name": "java (IJava/j!)",
   "language": "java",
   "name": "jbang-ijava"
  },
  "language_info": {
   "codemirror_mode": "java",
   "file_extension": ".jshell",
   "mimetype": "text/x-java-source",
   "name": "Java",
   "pygments_lexer": "java",
   "version": "17.0.13+0"
  }
 },
 "nbformat": 4,
 "nbformat_minor": 2
}
