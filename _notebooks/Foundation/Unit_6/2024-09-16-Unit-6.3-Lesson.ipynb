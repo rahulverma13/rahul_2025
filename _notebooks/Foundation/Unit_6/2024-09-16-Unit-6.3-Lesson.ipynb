{
 "cells": [
  {
   "cell_type": "raw",
   "metadata": {
    "vscode": {
     "languageId": "raw"
    }
   },
   "source": [
    "---\n",
    "layout: post\n",
    "title: Unit 6.3 Lesson\n",
    "type: collab \n",
    "toc: true\n",
    "menu: nav/CSA_Units/csa_unit6.html\n",
    "permalink: /csa/unit6/6.3/\n",
    "---"
   ]
  },
  {
   "cell_type": "markdown",
   "metadata": {},
   "source": [
    "> # Enhanced For Loop (For-each)\n",
    "\n",
    "An enhanced For Loop is a simplified version of a regular for loop, where the coder doesn't need to specify the increment and can access each element directly.\n",
    "\n",
    "### Pros\n",
    "  - Can access the elements of a array instad of a counter\n",
    "  - Enhanced readability\n",
    "  - Less likely to be buggy\n",
    "\n",
    "### Cons\n",
    "  - Can only traverse the array in order\n",
    "  - Accesses a copy of the array, so modifications to the variables are not saved in the original array"
   ]
  },
  {
   "cell_type": "markdown",
   "metadata": {},
   "source": [
    "## Regular For Loop\n",
    "![Regular For Loop](https://media.geeksforgeeks.org/wp-content/uploads/20231221155254/cpp-for-loop.png)\n",
    "\n",
    "## Enhanced For Loop\n",
    "![Enhanced For Loop](https://swcarpentry.github.io/python-novice-inflammation/fig/05-loops_image_num.png)"
   ]
  },
  {
   "cell_type": "code",
   "execution_count": 1,
   "metadata": {
    "vscode": {
     "languageId": "java"
    }
   },
   "outputs": [
    {
     "name": "stdout",
     "output_type": "stream",
     "text": [
      "11\n",
      "21\n",
      "31\n",
      "41\n",
      "51\n",
      "[10, 20, 30, 40, 50]\n"
     ]
    }
   ],
   "source": [
    "int[] numbers = {10, 20, 30, 40, 50};\n",
    "for (int number : numbers) {\n",
    "    number += 1;\n",
    "    System.out.println(number);\n",
    "};\n",
    "\n",
    "System.out.println(Arrays.toString(numbers))"
   ]
  },
  {
   "cell_type": "markdown",
   "metadata": {},
   "source": [
    "## Comparing a regular for loop with the enhanced for loop\n",
    "\n",
    "Popcorn Hack: Rewrite this code to use an enhanced for loop instead. make comments explaining what you added/changed"
   ]
  },
  {
   "cell_type": "code",
   "execution_count": 4,
   "metadata": {
    "vscode": {
     "languageId": "java"
    }
   },
   "outputs": [
    {
     "name": "stdout",
     "output_type": "stream",
     "text": [
      "Java\n",
      "Python\n",
      "Markdown\n",
      "C++\n",
      "Go\n",
      "JavaScript\n",
      "HTML\n",
      "Java\n",
      "Python\n",
      "Markdown\n",
      "C++\n",
      "Go\n",
      "JavaScript\n",
      "HTML\n"
     ]
    }
   ],
   "source": [
    "String[] languages = {\"Java\", \"Python\", \"Markdown\", \"C++\", \"Go\", \"JavaScript\", \"HTML\"};\n",
    "\n",
    "for (int i = 0; i<languages.length; i++) {\n",
    "    System.out.println(languages[i]);\n",
    "};\n",
    "\n",
    "for (String language: languages){ // for each loop for simplicity\n",
    "    System.out.println(language); // changed this to say language instead, easy to understand which is the benefit of for each\n",
    "}"
   ]
  },
  {
   "cell_type": "markdown",
   "metadata": {},
   "source": [
    "## Hacks\n",
    "\n",
    "1. Build the loop\n",
    "2. Multiple Choice\n",
    "3. Find each index of the letter 'a' in each word\n",
    "4. Find the error\n",
    "5. HW Hack"
   ]
  },
  {
   "cell_type": "code",
   "execution_count": 5,
   "metadata": {
    "vscode": {
     "languageId": "java"
    }
   },
   "outputs": [
    {
     "name": "stdout",
     "output_type": "stream",
     "text": [
      "English\n",
      "Math\n",
      "Computer Science\n",
      "History\n",
      "Physics\n"
     ]
    }
   ],
   "source": [
    "String[] myArray = {\"English\", \"Math\", \"Computer Science\", \"History\", \"Physics\"};\n",
    "\n",
    "for(String subject: myArray){\n",
    "    System.out.println(subject);\n",
    "}"
   ]
  },
  {
   "cell_type": "code",
   "execution_count": 6,
   "metadata": {
    "vscode": {
     "languageId": "java"
    }
   },
   "outputs": [
    {
     "name": "stdout",
     "output_type": "stream",
     "text": [
      "3\n",
      "5\n",
      "6\n",
      "3\n",
      "10\n"
     ]
    }
   ],
   "source": [
    "private String[] myArray = {\n",
    "    \"And\", \"Table\", \"Shirts\", \"Tea\", \"School Day\"\n",
    "};\n",
    "\n",
    "for (String currentWord : myArray) {\n",
    "    System.out.println(currentWord.length());\n",
    "}\n",
    "\n",
    "// A: System.out.println(myArray.currentWord.length());\n",
    "// B: System.out.println(myArray[index].length());\n",
    "// C: System.out.println(myArray[currentWord].length());\n",
    "// D: System.out.println(currentWord.length()); This is correct!"
   ]
  },
  {
   "cell_type": "code",
   "execution_count": 8,
   "metadata": {
    "vscode": {
     "languageId": "java"
    }
   },
   "outputs": [
    {
     "name": "stdout",
     "output_type": "stream",
     "text": [
      "Index of letter 'a' in \"Apple\" is -1\n",
      "Index of letter 'a' in \"Banana\" is 1\n",
      "Index of letter 'a' in \"Orange\" is 2\n"
     ]
    }
   ],
   "source": [
    "String[] fruits = {\"Apple\", \"Banana\", \"Orange\"};\n",
    "\n",
    "for (String fruit : fruits) {\n",
    "    System.out.println(\"Index of letter 'a' in \\\"\" + fruit + \"\\\" is \" + fruit.indexOf('a'));\n",
    "}"
   ]
  },
  {
   "cell_type": "code",
   "execution_count": null,
   "metadata": {
    "vscode": {
     "languageId": "java"
    }
   },
   "outputs": [],
   "source": [
    "String[] myArray = {\"Object 1\", \"Object 2\", \"Object 3\", \"Object 4\", \"Object 5\"};\n",
    "\n",
    "for (currentWord: myArray) { // Needs to mention the type of \"currentWord\"\n",
    "    System.out(currentWord) // Needs to write System.out.println()\n",
    "    // Needs to have a semi colon after the paraenthesis\n",
    "};\n",
    "\n",
    "// There are 3 errors, can you find them?"
   ]
  },
  {
   "cell_type": "markdown",
   "metadata": {},
   "source": [
    "# Final Hack\n",
    "\n",
    "Add to the code below to create a average grade calculator (using an enhanced for loop)"
   ]
  },
  {
   "cell_type": "code",
   "execution_count": 18,
   "metadata": {
    "vscode": {
     "languageId": "java"
    }
   },
   "outputs": [
    {
     "name": "stdout",
     "output_type": "stream",
     "text": [
      "Enter a grade: Average before new test 76.2\n",
      "Average after new test 80.16666666666667\n",
      "[88, 93, 55, 68, 77, 100]\n"
     ]
    }
   ],
   "source": [
    "public static double takeSum(Integer[] arr){\n",
    "    double sum = 0;\n",
    "    for(int a: arr){ sum += a; }\n",
    "    return sum;\n",
    "}\n",
    "Integer[] grades = {88, 93, 55, 68, 77};\n",
    "\n",
    "Scanner userGrades = new Scanner(System.in);\n",
    "System.out.print(\"Enter a grade: \");\n",
    "int grade = Integer.parseInt(userGrades.nextLine());\n",
    "\n",
    "// Add code here to take the average\n",
    "double total = takeSum(grades);\n",
    "System.out.println(\"Average before new test \" + total/grades.length);\n",
    "\n",
    "grades = Arrays.copyOf(grades, grades.length+1);\n",
    "grades[grades.length - 1] = grade; // adding new grade to last element of array\n",
    "\n",
    "double total = takeSum(grades);\n",
    "System.out.println(\"Average after new test \" + total/grades.length);\n",
    "\n",
    "System.out.println(Arrays.toString(grades));"
   ]
  }
 ],
 "metadata": {
  "kernelspec": {
   "display_name": "java (IJava/j!)",
   "language": "java",
   "name": "jbang-ijava"
  },
  "language_info": {
   "codemirror_mode": "java",
   "file_extension": ".jshell",
   "mimetype": "text/x-java-source",
   "name": "Java",
   "pygments_lexer": "java",
   "version": "17.0.12+0"
  },
  "orig_nbformat": 4
 },
 "nbformat": 4,
 "nbformat_minor": 2
}
