{
 "cells": [
  {
   "cell_type": "raw",
   "metadata": {
    "vscode": {
     "languageId": "raw"
    }
   },
   "source": [
    "---\n",
    "layout: post\n",
    "title: Remember Forever Quiz\n",
    "description: Remember forever quiz with AP CSP Students.\n",
    "categories: [DevOps]\n",
    "permalink: /devops/quiz\n",
    "menu: nav/tools_setup.html\n",
    "toc: true\n",
    "comments: true\n",
    "---"
   ]
  },
  {
   "cell_type": "markdown",
   "metadata": {},
   "source": [
    "# Remember Forever Quiz\n",
    "\n",
    "Ran `rm -rf nighthawk` and deleted repo on local computer. Recloned repo to get it running again. Attached are screen shots\n",
    "\n",
    "Before:\n",
    "<img width=\"653\" alt=\"Screenshot 2024-08-27 at 12 33 30 PM\" src=\"https://github.com/user-attachments/assets/e7b97a12-e793-4f80-9891-45e983950b6c\">\n",
    "\n",
    "Process:\n",
    "<img width=\"1250\" alt=\"Screenshot 2024-08-27 at 12 26 03 PM\" src=\"https://github.com/user-attachments/assets/277d16c9-bc82-4560-a3f2-638764c03fcf\">\n",
    "\n",
    "Result: \n",
    "<img width=\"1503\" alt=\"Screenshot 2024-08-27 at 12 30 06 PM\" src=\"https://github.com/user-attachments/assets/c8af524a-46c7-4d2f-b3c5-85a372aeaa76\">\n",
    "\n",
    "\n",
    "Team Picture [🙂](https://emojipedia.org/slightly-smiling-face#:~:text=A%20yellow%20face%20with%20simple,fine%20when%20it's%20really%20not.)\n",
    "<img width=\"1038\" alt=\"Screenshot 2024-08-27 at 12 38 14 PM\" src=\"https://github.com/user-attachments/assets/8114eb07-2778-4adc-bea8-3ff633715aff\">\n",
    "\n",
    "\n",
    "What does rm do:\n",
    "The command `rm` removes a certain directory or file on a linux operating system.\n"
   ]
  }
 ],
 "metadata": {
  "kernelspec": {
   "display_name": "Python 3",
   "language": "python",
   "name": "python3"
  },
  "language_info": {
   "codemirror_mode": {
    "name": "ipython",
    "version": 3
   },
   "file_extension": ".py",
   "mimetype": "text/x-python",
   "name": "python",
   "nbconvert_exporter": "python",
   "pygments_lexer": "ipython3",
   "version": "3.11.9"
  }
 },
 "nbformat": 4,
 "nbformat_minor": 2
}
