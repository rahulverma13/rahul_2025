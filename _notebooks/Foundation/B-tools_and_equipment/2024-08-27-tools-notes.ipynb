{
 "cells": [
  {
   "cell_type": "markdown",
   "metadata": {},
   "source": [
    "---\n",
    "layout: post\n",
    "title: Rahul Tool's Setup Notes!\n",
    "description: Notes while completing the Tools setup\n",
    "permalink: /devops/tools/verify\n",
    "menu: nav/tools_setup.html\n",
    "toc: true\n",
    "comments: true\n",
    "---"
   ]
  },
  {
   "cell_type": "markdown",
   "metadata": {},
   "source": [
    "# Tools Setup - Notes\n",
    "\n",
    "This page includes an overview of all the steps for the Tools setup and some important things to remember-- specific to Rahul Verma.\n",
    "\n",
    "## Setup\n",
    "\n",
    "To start writing code, there is a lot of setup steps involved: called SDLC (Software Development Lifecycle).\n",
    "\n",
    "This follows 5 steps:\n",
    "1. Linux Terminal\n",
    "2. Shell Commands\n",
    "3. Clcone Project\n",
    "4. Package Manager\n",
    "5. SDLC Established\n",
    "\n",
    "### Shell Commands\n",
    "\n",
    "Current system for Rahul: Linux\n",
    "\n",
    "Common Linux commands and their meaning\n",
    "- ``ls``: Lists all files in the current directory\n",
    "- ``pwd``: Outputs the current working directory\n",
    "- ``mkdir``: Command that allows user to create new directories\n",
    "- ``cd``: Used to change directories\n",
    "- ``git``: Used for version control\n",
    "- ``cat``: Displays a current file's content\n",
    "\n",
    "Version Control Deep Dive\n",
    "Version control commands interact with git to keep a history of your code.\n",
    "\n",
    "- ``git clone``: Copy a git repository to your local machine\n",
    "- ``git pull`` Update your local copy with the latest changes\n",
    "- ``git commit`` Save changes to files in local repository\n",
    "- ``git push`` Update cloud repository with current committed local repository\n",
    "\n",
    "Package Manager Commands\n",
    "\n",
    "Since my current system is linux, I will use homebrew. If homebrew is not installed, follow the below steps:\n",
    "- In terminal, type ``/bin/bash -c \"$(curl -fsSL https://raw.githubusercontent.com/Homebrew/install/HEAD/install.sh)\"``\n",
    "- Enter password and follow instruction prompts\n",
    "- Verify installation with ``brew doctor`` or ``brew --version`` to get the brew version\n",
    "\n",
    "Common Brew commands\n",
    "- ``brew list``: List installed packages\n",
    "- ``brew search <package>``: Search for specified packages\n",
    "- ``brew update``: Update Brew\n",
    "- ``brew upgrade``: Upgrade installed packages\n",
    "- ``brew uninstall <package>``: Uninstall a package\n",
    "\n",
    "Setting up Dev Tools - MacOs\n",
    "This command is used to setup tools on macos:\n",
    "```\n",
    "cd ./scripts\n",
    "./activate_macos.sh\n",
    "````\n",
    "\n"
   ]
  }
 ],
 "metadata": {
  "language_info": {
   "name": "python"
  }
 },
 "nbformat": 4,
 "nbformat_minor": 2
}
