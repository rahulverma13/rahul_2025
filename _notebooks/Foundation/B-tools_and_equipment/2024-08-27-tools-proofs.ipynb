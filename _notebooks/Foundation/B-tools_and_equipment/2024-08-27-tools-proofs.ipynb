{
 "cells": [
  {
   "cell_type": "raw",
   "metadata": {
    "vscode": {
     "languageId": "raw"
    }
   },
   "source": [
    "---\n",
    "layout: post\n",
    "title:  Tool Verification Proofs\n",
    "description: Proof that I verified my tools and did all the setups!\n",
    "categories: [DevOps]\n",
    "permalink: /devops/hacks\n",
    "menu: nav/tools_setup.html\n",
    "toc: true\n",
    "comments: true\n",
    "---"
   ]
  },
  {
   "cell_type": "markdown",
   "metadata": {},
   "source": [
    "# Tool Proofs\n",
    "\n",
    "## Script to run and list all versions\n",
    "\n",
    "In an effort to speed up the process, I created a bash script that will run and list versions of all important packages, as well as confirming that github is setup correctly. I started by creating a bash script, verificationScript.sh:\n"
   ]
  },
  {
   "cell_type": "markdown",
   "metadata": {},
   "source": []
  },
  {
   "cell_type": "markdown",
   "metadata": {},
   "source": [
    "Then, I ran ``alias verifyVersions='bash ./scripts/verificationScript.sh'`` to make it so I can just type ``verifyVersions`` to see if all the versions are good. This ensures that I can easily setup in the event that either I get a new computer or someone wants to use my website, continuing the Software Development Life Cycle.\n",
    "\n",
    "Here is a screenshot showing the commands I ran and my verifications:\n",
    "\n",
    "![Verification](../../../images/verificationScript.png)"
   ]
  }
 ],
 "metadata": {
  "kernelspec": {
   "display_name": "Python 3",
   "language": "python",
   "name": "python3"
  },
  "language_info": {
   "codemirror_mode": {
    "name": "ipython",
    "version": 3
   },
   "file_extension": ".py",
   "mimetype": "text/x-python",
   "name": "python",
   "nbconvert_exporter": "python",
   "pygments_lexer": "ipython3",
   "version": "3.11.9"
  }
 },
 "nbformat": 4,
 "nbformat_minor": 2
}
