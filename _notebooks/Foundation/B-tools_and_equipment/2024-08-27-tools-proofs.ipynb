{
 "cells": [
  {
   "cell_type": "raw",
   "metadata": {
    "vscode": {
     "languageId": "raw"
    }
   },
   "source": [
    "---\n",
    "layout: post\n",
    "title:  Tool Verification Proofs\n",
    "description: Proof that I verified my tools and did all the setups!\n",
    "categories: [DevOps]\n",
    "permalink: /devops/hacks\n",
    "menu: nav/tools_setup.html\n",
    "toc: true\n",
    "comments: true\n",
    "---"
   ]
  },
  {
   "cell_type": "markdown",
   "metadata": {},
   "source": [
    "# Tool Proofs\n",
    "\n",
    "## Script to run and list all versions\n",
    "\n",
    "In an effort to speed up the process, I created a bash script that will run and list versions of all important packages, as well as confirming that github is setup correctly. I started by creating a bash script, verificationScript.sh:\n"
   ]
  },
  {
   "cell_type": "markdown",
   "metadata": {},
   "source": []
  },
  {
   "cell_type": "markdown",
   "metadata": {},
   "source": [
    "Then, I ran ```alias verifyVersions='bash ./scripts/verificationScript.sh'``` to make it so I can just type ```verifyVersions``` to see if all the versions are good. This ensures that I can easily setup in the event that either I get a new computer or someone wants to use my website, continuing the Software Development Life Cycle.\n",
    "\n",
    "Here is a screenshot showing the commands I ran and my verifications:\n",
    "\n",
    "![Verification](https://github.com/user-attachments/assets/f33ca96f-c3b5-475e-8838-55cdc4d4c590)"
   ]
  },
  {
   "cell_type": "markdown",
   "metadata": {},
   "source": [
    "## Proof of running the tools setup commands in the jupyter notebook\n",
    "\n",
    "![Verification](https://github.com/user-attachments/assets/c01245ff-dfa4-4dcf-842a-6a2599fc8a40)\n",
    "![Verification](https://github.com/user-attachments/assets/201e25a3-a9d6-48ea-9442-5450066ed5c9)\n",
    "![Verification](https://github.com/user-attachments/assets/da81bd5e-7b2e-4c69-813a-7533ce2f30c4)\n",
    "![Verification](https://github.com/user-attachments/assets/feb64ed6-678e-4c4e-8600-a0c101b8fc95)\n",
    "![Verification](https://github.com/user-attachments/assets/8bda4620-db00-44ce-b98a-32769f94a7d8)\n",
    "![Verification](https://github.com/user-attachments/assets/76fbc966-0707-4aca-8a27-900119d5b159)\n",
    "![Verification](https://github.com/user-attachments/assets/bce077ef-d588-482e-993c-75694320ca3e)\n",
    "![Verification](https://github.com/user-attachments/assets/ace97176-87b2-4dc1-8ff2-3500b04289fd)\n",
    "![Verification](https://github.com/user-attachments/assets/8b2b93c8-dd6b-4935-96ab-387a70b8bde5)\n",
    "![Verification](https://github.com/user-attachments/assets/29ade716-2ff0-4eab-a5b5-04c6cb7dd3c9)\n",
    "![Verification](https://github.com/user-attachments/assets/2ec8e0da-f839-4cf0-a67f-36da91be26a6)\n",
    "![Verification](https://github.com/user-attachments/assets/9bdb3cfc-2fe2-44f4-b224-47760e18f0f2)\n",
    "![Verification](https://github.com/user-attachments/assets/765508f5-5079-488f-b3e2-71bd9d9cb15a)\n"
   ]
  }
 ],
 "metadata": {
  "kernelspec": {
   "display_name": "Python 3",
   "language": "python",
   "name": "python3"
  },
  "language_info": {
   "codemirror_mode": {
    "name": "ipython",
    "version": 3
   },
   "file_extension": ".py",
   "mimetype": "text/x-python",
   "name": "python",
   "nbconvert_exporter": "python",
   "pygments_lexer": "ipython3",
   "version": "3.11.9"
  }
 },
 "nbformat": 4,
 "nbformat_minor": 2
}
