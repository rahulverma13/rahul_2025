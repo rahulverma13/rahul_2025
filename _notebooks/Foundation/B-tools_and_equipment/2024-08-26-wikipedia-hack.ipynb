{
 "cells": [
  {
   "cell_type": "markdown",
   "metadata": {},
   "source": [
    "---\n",
    "layout: post\n",
    "title: Wikipedia / Emoji Hack\n",
    "description: Using wikipedia for python hack\n",
    "categories: [DevOps]\n",
    "permalink: /devops/tools/hack1\n",
    "menu: nav/tools_setup.html\n",
    "toc: true\n",
    "comments: true\n",
    "---"
   ]
  },
  {
   "cell_type": "code",
   "execution_count": null,
   "metadata": {
    "vscode": {
     "languageId": "plaintext"
    }
   },
   "outputs": [],
   "source": [
    "import requests\n",
    "from bs4 import BeautifulSoup\n",
    "import emoji\n",
    "\n",
    "def get_rating_emoji(avg_rating):\n",
    "    if avg_rating >= 4.5:\n",
    "        return emoji.emojize(\":grinning_face_with_smiling_eyes: Excellent\")\n",
    "    elif avg_rating >= 3.5:\n",
    "        return emoji.emojize(\":slightly_smiling_face: Good\")\n",
    "    elif avg_rating >= 2.5:\n",
    "        return emoji.emojize(\":neutral_face: Average\")\n",
    "    elif avg_rating >= 1.5:\n",
    "        return emoji.emojize(\":worried_face: Poor\")\n",
    "    else:\n",
    "        return emoji.emojize(\":angry_face: Terrible\")\n",
    "\n",
    "# Function to fetch a random Wikipedia article\n",
    "def fetch_article():\n",
    "    response = requests.get(\"https://en.wikipedia.org/wiki/Special:Random\")\n",
    "    if response.status_code == 200:\n",
    "        soup = BeautifulSoup(response.text, 'html.parser')\n",
    "        title = soup.find('h1', {'id': 'firstHeading'}).text\n",
    "        paragraphs = soup.find_all('p')\n",
    "        content = \"\\n\".join([para.text for para in paragraphs])\n",
    "        return title, content\n",
    "    else:\n",
    "        return None, None\n",
    "\n",
    "def run():\n",
    "    ratings = []\n",
    "    while True:\n",
    "        choice = input(\"What would you like to do?\\n1: Visit and rate a random Wikipedia article\\n2: View your average rating\\n3: Exit this session\\n\").strip()\n",
    "        if choice == \"1\":\n",
    "            title, content = fetch_article()\n",
    "            if title and content:\n",
    "                print(f\"\\nTitle: {title}\\n\")\n",
    "                print(content[:4000]) \n",
    "                rating = input(\"\\nRate this article (1 to 5): \").strip()\n",
    "                try:\n",
    "                    rating = int(rating)\n",
    "                    if 1 <= rating <= 5:\n",
    "                        ratings.append(rating)\n",
    "                        print(f\"Thank you for rating! Your rating: {rating}\")\n",
    "                    else:\n",
    "                        print(\"Please enter a number between 1 and 5.\")\n",
    "                except ValueError:\n",
    "                    print(\"Invalid input. Please enter a number between 1 and 5.\")\n",
    "        elif choice == \"2\":\n",
    "            if ratings:\n",
    "                avg_rating = sum(ratings) / len(ratings)\n",
    "                emoji_rating = get_rating_emoji(avg_rating)\n",
    "                print(f\"Average rating: {avg_rating:.2f} {emoji_rating}\")\n",
    "            else:\n",
    "                print(\"No ratings available.\")\n",
    "        elif choice == \"3\":\n",
    "            if ratings:\n",
    "                avg_rating = sum(ratings) / len(ratings)\n",
    "                emoji_rating = get_rating_emoji(avg_rating)\n",
    "                print(f\"Exiting session. Your average rating was: {avg_rating:.2f} {emoji_rating}\")\n",
    "            else:\n",
    "                print(\"Exiting session. No ratings were provided.\")\n",
    "            break\n",
    "        else:\n",
    "            print(\"Invalid choice. Please enter 1, 2, or 3.\")\n",
    "run()\n"
   ]
  }
 ],
 "metadata": {
  "language_info": {
   "name": "python"
  }
 },
 "nbformat": 4,
 "nbformat_minor": 2
}
