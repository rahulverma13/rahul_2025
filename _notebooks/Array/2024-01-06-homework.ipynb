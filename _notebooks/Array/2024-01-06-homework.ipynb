{
 "cells": [
  {
   "cell_type": "markdown",
   "metadata": {},
   "source": [
    "---\n",
    "layout: post\n",
    "toc: true\n",
    "title: Array/Homework\n",
    "description: AP CSA FRQ Array/Arraylist Homework\n",
    "courses: { csa: {week: 1} }\n",
    "type: ccc\n",
    "categories: [AP CSA]\n",
    "menu: nav/student_toolkit/P3CSATeamTeach/array.html\n",
    "permalink: /teamteach/array/homework\n",
    "---"
   ]
  },
  {
   "cell_type": "markdown",
   "metadata": {},
   "source": [
    "# Homework\n",
    "\n",
    "Write a program that randomly fills in 0s and 1s into an n-by-n matrix, prints the matrix, and finds the rows and columns with the most 1s. (Hint: Use two ArrayLists to store the row and column indices with the most 1s.) \n",
    "\n",
    "Here is a sample run of the program, printed in the console: \n",
    "```\n",
    "Enter the array size n: 4\n",
    "The random array is\n",
    "0011\n",
    "0011\n",
    "1101\n",
    "1010\n",
    "The largest row index: 2\n",
    "The largest column index: 2, 3 \n",
    "```"
   ]
  },
  {
   "cell_type": "code",
   "execution_count": 33,
   "metadata": {
    "vscode": {
     "languageId": "java"
    }
   },
   "outputs": [
    {
     "name": "stdout",
     "output_type": "stream",
     "text": [
      "Enter the array size n: \n",
      "The random array is\n",
      "0101\n",
      "0110\n",
      "1001\n",
      "1111\n",
      "The largest row index: 4\n",
      "The largest col index: 2, 4\n"
     ]
    }
   ],
   "source": [
    "import java.lang.Math;\n",
    "\n",
    "Scanner s = new Scanner(System.in);\n",
    "System.out.print(\"Enter the array size n: \");\n",
    "int n = Integer.parseInt(s.nextLine());\n",
    "System.out.println();\n",
    "\n",
    "int[][] arr = new int[n][n];\n",
    "\n",
    "for(int i = 0; i < n; i++){\n",
    "    for(int j = 0; j < n; j++){\n",
    "        arr[i][j] = ((int) (Math.random()*1000)) % 2;\n",
    "    }\n",
    "}\n",
    "System.out.println(\"The random array is\");\n",
    "\n",
    "\n",
    "for(int i =0; i < n; i++){\n",
    "    for(int j =0 ; j < n; j++){\n",
    "        System.out.print(arr[i][j]);\n",
    "    }\n",
    "    System.out.println();\n",
    "}\n",
    "int maxRow = 0;\n",
    "int maxCol = 0;\n",
    "\n",
    "ArrayList<Integer> rows = new ArrayList<>();\n",
    "ArrayList<Integer> cols = new ArrayList<>();\n",
    "\n",
    "\n",
    "for(int i = 0; i < n; i++){\n",
    "    int count = 0;\n",
    "    for(int j =0 ; j < n; j++){\n",
    "        count += arr[i][j];\n",
    "    }\n",
    "    rows.add(count);\n",
    "    maxRow = Math.max(maxRow, count);\n",
    "}\n",
    "\n",
    "for(int i = 0; i < n; i++){\n",
    "    int count = 0;\n",
    "    for(int j =0 ; j < n; j++){\n",
    "        count += arr[j][i];\n",
    "    }\n",
    "    cols.add(count);\n",
    "    maxCol = Math.max(maxCol, count);\n",
    "}\n",
    "\n",
    "System.out.print(\"The largest row index: \");\n",
    "boolean isFirst = true;\n",
    "for(int i = 0; i < n; i++){\n",
    "    if(rows.get(i) == maxRow){\n",
    "        if(!isFirst) System.out.print(\", \");\n",
    "        System.out.print(i+1);\n",
    "        isFirst = false;\n",
    "    } \n",
    "} \n",
    "System.out.println();\n",
    "System.out.print(\"The largest col index: \");\n",
    "isFirst = true;\n",
    "for(int i = 0; i < n; i++) {\n",
    "    if(cols.get(i) == maxCol){\n",
    "        if(!isFirst) System.out.print(\", \");\n",
    "        System.out.print(i+1);\n",
    "        isFirst = false;\n",
    "    } \n",
    "}\n",
    "System.out.println();\n"
   ]
  }
 ],
 "metadata": {
  "kernelspec": {
   "display_name": "java (IJava/j!)",
   "language": "java",
   "name": "jbang-ijava"
  },
  "language_info": {
   "codemirror_mode": "java",
   "file_extension": ".jshell",
   "mimetype": "text/x-java-source",
   "name": "Java",
   "pygments_lexer": "java",
   "version": "17.0.13+0"
  }
 },
 "nbformat": 4,
 "nbformat_minor": 2
}
