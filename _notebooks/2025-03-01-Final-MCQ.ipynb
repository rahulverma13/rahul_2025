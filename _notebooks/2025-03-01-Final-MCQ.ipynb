{
 "cells": [
  {
   "cell_type": "markdown",
   "metadata": {},
   "source": [
    "---\n",
    "layout: post\n",
    "title: Final MCQ Reflection\n",
    "description: Final MCQ Reflection\n",
    "toc: True\n",
    "permalink: /csa/final-mcq\n",
    "comments: true"
   ]
  },
  {
   "cell_type": "markdown",
   "metadata": {},
   "source": [
    "# **Final MCQ Review**\n",
    "\n",
    "\n",
    "#  My Score: **38/39**\n",
    "\n",
    "<img width=\"1512\" alt=\"Image\" src=\"https://github.com/user-attachments/assets/38726825-8e7b-4ade-98cb-493d29453416\" />\n",
    "\n",
    "I did very well on this MCQ with a score of 38/39, just msising one question. It took me an hour an 47 minutes per college board, but I did not complete it continuously so that number is inflated a little.\n",
    "\n",
    "\n",
    "I think I did really well on all parts of the MCQ in all sections of CSA, and I believe that this is because of my work throughout the trimester. \n",
    "\n",
    "### The following things contributed to my high score, and my improvement from **35/40** last trimester to **38/39** this trimester\n",
    "\n",
    "### 1. PBL Development\n",
    "Throguhout project based learnings, I was able to take my previous java skills into true application, which contributed to developing them. For the harder conceptual java questions, this is what really helped.\n",
    "\n",
    "### 2. FRQ Team Teaches\n",
    "Through completing and doing team teaches of my own, this also put my java knoweledge to the test. While MCQs and FRQs are different, they employ the same skills and really helped me in understanding true java concepts.\n",
    "\n",
    "### 3. Peer Collaboration\n",
    "Over this past trimester, collaborating with my peers allowed me to learn from then, as well as them learning from me. I believe this contributed to increasing my strong understanding of java, and is reflected in my high MCQ score.\n",
    "\n",
    "### 4. Reviewing my Mistakes From Last Trimester\n",
    "Before taking this MCQ, I reviewed some of my mistakes last trimester. Something I noticed that I often made mistakes because I was rushing and not taking my time, which made me make silly mistakes. I took around 30 minutes longer on this MCQ, and my score is reflective of that.\n",
    "\n",
    "\n",
    "## Here is a review of the one problem I missed this trimester:\n",
    "<img width=\"1035\" alt=\"Image\" src=\"https://github.com/user-attachments/assets/689e955a-2823-4aa5-a5de-801aadda88d4\" />\n",
    "\n",
    "In this problem, I correctly identified that option 1 would not work because it adds duplicate words. Furthermore, I correctly understood that option 2 would go backwards and successsfully complete what the problem is asking. However, I mistunderstood option 3.\n",
    "\n",
    "From my understanding of option 3, I thought that it would be off by one index based on the way that it was taking the values in reverse. However, it is actually correct. Thus, option 3 works, so the answer is **option 2 & 3, or E**. \n"
   ]
  }
 ],
 "metadata": {
  "kernelspec": {
   "display_name": "java (IJava/j!)",
   "language": "java",
   "name": "jbang-ijava"
  },
  "language_info": {
   "codemirror_mode": "java",
   "file_extension": ".jshell",
   "mimetype": "text/x-java-source",
   "name": "java",
   "pygments_lexer": "java",
   "version": "17.0.12+0"
  }
 },
 "nbformat": 4,
 "nbformat_minor": 2
}
