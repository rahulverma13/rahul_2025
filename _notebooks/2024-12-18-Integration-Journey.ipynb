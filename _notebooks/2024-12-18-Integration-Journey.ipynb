{
 "cells": [
  {
   "cell_type": "markdown",
   "metadata": {},
   "source": [
    "---\n",
    "layout: post\n",
    "title: 12/18 Integration Update\n",
    "description: Integration Journey\n",
    "toc: True\n",
    "permalink: /csa/integration/journey\n",
    "comments: true"
   ]
  },
  {
   "cell_type": "markdown",
   "metadata": {},
   "source": [
    "# Integration Journey\n",
    "\n",
    "Over the past few weeks, my team and I has been through a lot of the integration work. Our product team is CSASynergy, and my particular role is creating an exhaustive assignment backend feature, which has been integrated into other people's features, such as Aadit's Synergy feature, Tarun's submission/canvas feature, Eric's grade's feature, and more.\n",
    "\n",
    "## My contribution\n",
    "Github commits\n",
    "<img width=\"872\" alt=\"Screenshot 2024-12-18 at 9 31 09 PM\" src=\"https://github.com/user-attachments/assets/e2ec2c2a-ac8a-4cbb-84ce-1678ad2ff58e\" />\n",
    "\n",
    "Analytics\n",
    "<img width=\"1001\" alt=\"Screenshot 2024-12-18 at 9 32 03 PM\" src=\"https://github.com/user-attachments/assets/ea9a78ca-7e7d-4f30-88d3-5625bfdfce00\" />\n",
    "\n",
    "\n",
    "## My Integration\n",
    "\n",
    "### 1. Integrating Grade Requests & Teacher Grading Features Onto Main Nav Bar\n",
    "We added the grade request feature and master teacher grading features onto the nav bar. This brought our previous developments onto the main site. \n",
    "\n",
    "One important feature was making sure to include proper security configs. We configured it such that only people with the role Teacher or Admin can see these drop downs and access this page.\n",
    "<img width=\"704\" alt=\"Screenshot 2024-12-09 at 10 15 00 AM\" src=\"https://github.com/user-attachments/assets/c6a11ba2-a4d8-4a40-8bb9-29f9d39fd116\">\n",
    "\n",
    "### 2. Integration with Tarun's submission page\n",
    "\n",
    "<img width=\"513\" alt=\"Screenshot 2024-12-18 at 9 33 20 PM\" src=\"https://github.com/user-attachments/assets/abe3ca6c-16fb-4ab1-89cc-ca24d12ba541\" />\n",
    "<img width=\"1512\" alt=\"Screenshot 2024-12-18 at 9 36 36 PM\" src=\"https://github.com/user-attachments/assets/a37ca6e8-9746-4cd5-ad65-9fef36536c6b\" />\n",
    "\n",
    "I was able to successfully work with Tarun to integrate his frontend assignment submission page to my backend deployment. The database is shared for both and submissions are shown to the teacher to grade, which is quite nice.\n",
    "\n",
    "### 3. KEY STEP: Resolving feedback from integration checkpoint 1\n",
    "\n",
    "One big feedback I received in our initial checkpoint with Mr. Mortensen was a request for a toggle able assignment submission page-- one for viewing by assignment, and another for viewing by submission. This made a lot of sense to me, because this will enable the teacher to seamlessly grade any submissions on the larger assignment page or focus on submissions for a specific student. Thus, I was able to add this on before our final integration check.\n",
    "\n",
    "Assignment Focused View Page:\n",
    "<img width=\"934\" alt=\"Screenshot 2024-12-18 at 9 40 20 PM\" src=\"https://github.com/user-attachments/assets/3d703546-fcee-4cd7-8ca6-c7f22a2afd58\" />\n",
    "\n",
    "Student Focused View Page:\n",
    "<img width=\"1052\" alt=\"Screenshot 2024-12-18 at 9 40 44 PM\" src=\"https://github.com/user-attachments/assets/5b6cf1f0-6248-4afd-b684-3bc09e5194e9\" />\n",
    "\n",
    "Assignment Focused Submission Page:\n",
    "\n",
    "<img width=\"925\" alt=\"Screenshot 2024-12-18 at 9 41 12 PM\" src=\"https://github.com/user-attachments/assets/a8efa651-959a-4eb3-a056-938434a32d8e\" />\n",
    "\n",
    "Student Focused Submission Page:\n",
    "<img width=\"1104\" alt=\"Screenshot 2024-12-18 at 9 41 21 PM\" src=\"https://github.com/user-attachments/assets/abe7d7b6-58a6-4766-a591-48c7810384e7\" />\n",
    "\n",
    "I hope this will help accomplish this projects goal of reducing time spent in terms of grading for both teachers and students.\n",
    "\n",
    "## Next Steps\n",
    "\n",
    "We have a few minor changes we need to make to our project-- mainly, divying up each assignment to be focused on a specific class (CSA, CSP, CSSE, etc.), to allow for a condensed view of assignments for students. \n",
    "\n",
    "Apart from a few other marginal changes, our goal is to run a Beta run of our project on the team teaches for Collegeboard AP CSA FRQs. This will enable our feature to be tested extensively by all CSA Students and Mr. Mortensen, and will truly prove if our feature is successful. We are hoping to work through any issues people face when submitting, grading, and creating team teaches. While a daunting task for our feature to be stress tested by 50+ students, we are excited for the opportunity to share our work. \n"
   ]
  }
 ],
 "metadata": {
  "kernelspec": {
   "display_name": "java (IJava/j!)",
   "language": "java",
   "name": "jbang-ijava"
  },
  "language_info": {
   "codemirror_mode": "java",
   "file_extension": ".jshell",
   "mimetype": "text/x-java-source",
   "name": "java",
   "pygments_lexer": "java",
   "version": "17.0.12+0"
  }
 },
 "nbformat": 4,
 "nbformat_minor": 2
}
