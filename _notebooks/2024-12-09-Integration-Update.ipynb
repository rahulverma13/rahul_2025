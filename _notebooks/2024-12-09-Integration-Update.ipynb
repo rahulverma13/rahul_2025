{
 "cells": [
  {
   "cell_type": "markdown",
   "metadata": {},
   "source": [
    "---\n",
    "layout: post\n",
    "title: 12/9 Integration Update\n",
    "description: Integration Update + Future Steps\n",
    "toc: True\n",
    "permalink: /csa/integration\n",
    "comments: true"
   ]
  },
  {
   "cell_type": "markdown",
   "metadata": {},
   "source": [
    "# Integration Update - 12 / 9\n",
    "\n",
    "Over the past few weeks, my team and I has been through a lot of the integration work. Our product team is CSASynergy, and we are focused on integrating with the AI Grader group and with one of Period 1's teams that's creating a queue for assignments.\n",
    "\n",
    "We have successfully integrated onto our branch of the backend fork, and submitted a PR with a few features initially, with more coming soon. Below is the main things we have accomplished.\n",
    "\n",
    "## 1. Integrating Grade Requests & Teacher Grading Features Onto Main Nav Bar\n",
    "We added the grade request feature and master teacher grading features onto the nav bar. This brought our previous developments onto the main site. \n",
    "\n",
    "One important feature was making sure to include proper security configs. We configured it such that only people with the role Teacher or Admin can see these drop downs and access this page.\n",
    "<img width=\"704\" alt=\"Screenshot 2024-12-09 at 10 15 00 AM\" src=\"https://github.com/user-attachments/assets/c6a11ba2-a4d8-4a40-8bb9-29f9d39fd116\">\n",
    "\n",
    "\n",
    "## 2. Integrating Assignments Class with AI Grading Group\n",
    "\n",
    "As our team's assignment class has significant overlap with some other groups, we spent a lot of time integrating and adding their features into our classes (as our group has the most overall expansive assignment class to start). This led us to creating an assignment tracker page which allows teachers to view all assignments and assign grades to some submissions.\n",
    "\n",
    "This has also been integrated to the main page.\n",
    "![image](https://github.com/user-attachments/assets/d424056a-b3dd-4cf5-85d1-5c0c2686e373)\n",
    "![image](https://github.com/user-attachments/assets/67a7160e-86e5-48c3-81f8-1e5f4d29fcb9)\n",
    "\n",
    "## 3. Other Integrations\n",
    "There are many other groups which have had smaller yet significant integrations required with our group. One of these group's is in period 1 creating a queueing system for our assignments, which they integrated into our assignment class. Another group is the Seed Tracker Group in period 1 as well, which is in the process of being integrated with the assignment and grade database.\n",
    "\n",
    "## 4. Future Steps\n",
    "\n",
    "Our future steps revolve around a few steps.\n",
    "\n",
    "1. Finishing integration with other smaller Mort Toolkit teams (done with the larger projects)\n",
    "2. Discuss Sprint Retrospective and overall how well we accomplished our integration goals.\n",
    "\n",
    "We are happy with all that we have accomplished, and excited to continue our progress!"
   ]
  }
 ],
 "metadata": {
  "kernelspec": {
   "display_name": "java (IJava/j!)",
   "language": "java",
   "name": "jbang-ijava"
  },
  "language_info": {
   "codemirror_mode": "java",
   "file_extension": ".jshell",
   "mimetype": "text/x-java-source",
   "name": "java",
   "pygments_lexer": "java",
   "version": "17.0.12+0"
  }
 },
 "nbformat": 4,
 "nbformat_minor": 2
}
